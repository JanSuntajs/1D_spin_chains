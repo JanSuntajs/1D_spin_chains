{
 "cells": [
  {
   "cell_type": "markdown",
   "metadata": {},
   "source": [
    "# Testing Imbrie's model\n",
    "\n",
    "This notebook serves as an introduction to ```1D_spin_chains``` package usage\n",
    "and also provides an implementation of the Imbrie's model.\n",
    "\n",
    "The model is as follows: \n",
    "$$\n",
    " H  = \\sum_{i=-K}^{K'} h_i S_i^z + \\sum_{i=-K}^{K'} \\gamma_i S_i^x + \\sum_{i=-K-1}^{K'} J_i S_i^z S_{i+1}^z,\n",
    "$$\n",
    "where $h_i,\\, \\gamma_i$ and $J_i$ are sampled according to some probability distributions. \n",
    "\n",
    "In our code, we set (chain length) $L=4$. So that we can compare different implementations, we first neglect\n",
    "the supposed randomness and set $J=1,\\,\\gamma=1,\\, h_i=1.$"
   ]
  },
  {
   "cell_type": "markdown",
   "metadata": {},
   "source": [
    "## Setting up the Hamiltonian."
   ]
  },
  {
   "cell_type": "code",
   "execution_count": 53,
   "metadata": {},
   "outputs": [],
   "source": [
    "# import the needed modules\n",
    "from scipy.sparse import linalg\n",
    "from scipy import sparse as ssp\n",
    "from scipy.linalg import eigvalsh\n",
    "import matplotlib.pyplot as plt\n",
    "\n",
    "from hamiltonian import hamiltonian as hm\n",
    "# define the parameters\n",
    "L = 4\n",
    "J = 1.\n",
    "gamma = 1.\n",
    "h = 1.\n",
    "\n",
    "# set up the coupling constants\n",
    "\n",
    "# S^z term -> a nested list of interaction parameters and\n",
    "# sites on which the operators act on\n",
    "h_z = [[h, i] for i in range(L)]\n",
    "# S^x term\n",
    "gamma_x = [[gamma, i] for i in range(L)]\n",
    "# The two-site interaction term -> consider PBC\n",
    "J_zz = [[J, i, (i+1)%L] for i in range(L)]\n",
    "\n",
    "# define the interaction type for the corresponding \n",
    "# coupling lists\n",
    "ham_static = [['z', h_z], ['x', gamma_x], ['zz', J_zz]]\n",
    "\n",
    "# build the imbrie model hamiltonian\n",
    "imbrie_model = hm.hamiltonian(L, ham_static, [])"
   ]
  },
  {
   "cell_type": "code",
   "execution_count": 54,
   "metadata": {},
   "outputs": [
    {
     "name": "stdout",
     "output_type": "stream",
     "text": [
      "Please wait, building the Hamiltonian ...\n",
      "Building the Hamiltonian finished!\n"
     ]
    },
    {
     "data": {
      "text/plain": [
       "<16x16 sparse matrix of type '<class 'numpy.float64'>'\n",
       "\twith 76 stored elements in Compressed Sparse Row format>"
      ]
     },
     "execution_count": 54,
     "metadata": {},
     "output_type": "execute_result"
    }
   ],
   "source": [
    "imbrie_model.ham"
   ]
  },
  {
   "cell_type": "code",
   "execution_count": 55,
   "metadata": {},
   "outputs": [
    {
     "name": "stdout",
     "output_type": "stream",
     "text": [
      "Please wait, building the Hamiltonian ...\n",
      "Building the Hamiltonian finished!\n",
      "[-2.55111100e+00 -1.80193774e+00 -1.41421356e+00 -1.41421356e+00\n",
      " -1.20053099e+00 -5.45513972e-01 -4.45041868e-01 -2.18038863e-16\n",
      " -1.28993825e-16  3.70702492e-16  2.15333983e-01  1.24697960e+00\n",
      "  1.41421356e+00  1.41421356e+00  1.59377147e+00  3.48805050e+00]\n"
     ]
    }
   ],
   "source": [
    "# obtain the eigenvalues\n",
    "\n",
    "eigvals = eigvalsh(imbrie_model.ham.todense())\n",
    "print(eigvals)"
   ]
  },
  {
   "cell_type": "code",
   "execution_count": 52,
   "metadata": {},
   "outputs": [
    {
     "name": "stdout",
     "output_type": "stream",
     "text": [
      "Please wait, building the Hamiltonian ...\n",
      "Building the Hamiltonian finished!\n"
     ]
    },
    {
     "data": {
      "text/plain": [
       "<matplotlib.image.AxesImage at 0x7f9001e5cb38>"
      ]
     },
     "execution_count": 52,
     "metadata": {},
     "output_type": "execute_result"
    },
    {
     "data": {
      "image/png": "[encoded data removed]",
      "text/plain": [
       "<Figure size 288x288 with 1 Axes>"
      ]
     },
     "metadata": {
      "needs_background": "light"
     },
     "output_type": "display_data"
    }
   ],
   "source": [
    "plt.matshow(np.real(imbrie_model.ham.todense()))"
   ]
  },
  {
   "cell_type": "code",
   "execution_count": null,
   "metadata": {},
   "outputs": [],
   "source": []
  }
 ],
 "metadata": {
  "hide_input": false,
  "kernelspec": {
   "display_name": "anaconda (base)",
   "language": "python",
   "name": "anaconda_base"
  },
  "language_info": {
   "codemirror_mode": {
    "name": "ipython",
    "version": 3
   },
   "file_extension": ".py",
   "mimetype": "text/x-python",
   "name": "python",
   "nbconvert_exporter": "python",
   "pygments_lexer": "ipython3",
   "version": "3.6.8"
  },
  "latex_envs": {
   "LaTeX_envs_menu_present": true,
   "autoclose": true,
   "autocomplete": true,
   "bibliofile": "biblio.bib",
   "cite_by": "apalike",
   "current_citInitial": 1,
   "eqLabelWithNumbers": true,
   "eqNumInitial": 1,
   "hotkeys": {
    "equation": "Ctrl-E",
    "itemize": "Ctrl-I"
   },
   "labels_anchors": false,
   "latex_user_defs": false,
   "report_style_numbering": false,
   "user_envs_cfg": false
  },
  "nbTranslate": {
   "displayLangs": [
    "*"
   ],
   "hotkey": "alt-t",
   "langInMainMenu": true,
   "sourceLang": "en",
   "targetLang": "fr",
   "useGoogleTranslate": true
  },
  "toc": {
   "base_numbering": 1,
   "nav_menu": {},
   "number_sections": true,
   "sideBar": true,
   "skip_h1_title": false,
   "title_cell": "Table of Contents",
   "title_sidebar": "Contents",
   "toc_cell": false,
   "toc_position": {},
   "toc_section_display": true,
   "toc_window_display": false
  },
  "varInspector": {
   "cols": {
    "lenName": 16,
    "lenType": 16,
    "lenVar": 40
   },
   "kernels_config": {
    "python": {
     "delete_cmd_postfix": "",
     "delete_cmd_prefix": "del ",
     "library": "var_list.py",
     "varRefreshCmd": "print(var_dic_list())"
    },
    "r": {
     "delete_cmd_postfix": ") ",
     "delete_cmd_prefix": "rm(",
     "library": "var_list.r",
     "varRefreshCmd": "cat(var_dic_list()) "
    }
   },
   "types_to_exclude": [
    "module",
    "function",
    "builtin_function_or_method",
    "instance",
    "_Feature"
   ],
   "window_display": false
  }
 },
 "nbformat": 4,
 "nbformat_minor": 2
}
