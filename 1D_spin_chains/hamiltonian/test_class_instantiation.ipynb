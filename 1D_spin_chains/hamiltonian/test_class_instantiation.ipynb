{
 "cells": [
  {
   "cell_type": "code",
   "execution_count": 1,
   "metadata": {},
   "outputs": [],
   "source": [
    "import hamiltonian as hm\n",
    "from matplotlib.pyplot import matshow\n",
    "from scipy.sparse import linalg\n",
    "from scipy import sparse as ssp \n",
    "from scipy.special import comb\n",
    "import matplotlib.pyplot as plt"
   ]
  },
  {
   "cell_type": "code",
   "execution_count": 29,
   "metadata": {},
   "outputs": [],
   "source": [
    "L = 14\n",
    "J1 = -1\n",
    "J2 = 1.1\n",
    "nn_xy = [[J1, i, (i + 1) % L ] for i in range(L)]\n",
    "nn_z = [[J2, i, (i + 1) % L  ] for i in range(L)]\n",
    "snn_xy = [[J1, i, (i + 2) % L ] for i in range(L)]\n",
    "snn_z = [[J2, i, (i + 2) % L] for i in range(L)]\n",
    "\n",
    "static = [['+-', nn_xy], ['-+', nn_xy], ['zz', nn_z]]\n",
    "\n",
    "ham = hm.hamiltonian(L, static, [])\n"
   ]
  },
  {
   "cell_type": "code",
   "execution_count": 24,
   "metadata": {},
   "outputs": [],
   "source": [
    "eigvals, eigvecs = np.linalg.eigh(ham.ham.todense())"
   ]
  },
  {
   "cell_type": "code",
   "execution_count": 30,
   "metadata": {},
   "outputs": [
    {
     "name": "stdout",
     "output_type": "stream",
     "text": [
      "3432\n"
     ]
    }
   ],
   "source": [
    "nu = ham.L/2\n",
    "states = []\n",
    "for i in range(ham.num_states):\n",
    "    \n",
    "    if bin(i).count(\"1\") == nu:\n",
    "        \n",
    "        states.append(i)\n",
    "        \n",
    "print(len(states))\n",
    "\n",
    "ham_sector = ham.ham[np.ix_(states, states)]\n",
    "    "
   ]
  },
  {
   "cell_type": "code",
   "execution_count": 34,
   "metadata": {},
   "outputs": [
    {
     "name": "stdout",
     "output_type": "stream",
     "text": [
      "CPU times: user 5 µs, sys: 1e+03 ns, total: 6 µs\n",
      "Wall time: 11.2 µs\n"
     ]
    },
    {
     "data": {
      "text/plain": [
       "<matplotlib.image.AxesImage at 0x7f74869e0390>"
      ]
     },
     "execution_count": 34,
     "metadata": {},
     "output_type": "execute_result"
    },
    {
     "data": {
      "image/png": "[encoded data removed]",
      "text/plain": [
       "<Figure size 288x288 with 1 Axes>"
      ]
     },
     "metadata": {
      "needs_background": "light"
     },
     "output_type": "display_data"
    }
   ],
   "source": [
    "%time\n",
    "matshow(np.real(ham_sector.todense()))"
   ]
  },
  {
   "cell_type": "code",
   "execution_count": 36,
   "metadata": {},
   "outputs": [
    {
     "name": "stdout",
     "output_type": "stream",
     "text": [
      "CPU times: user 35 s, sys: 6.45 s, total: 41.4 s\n",
      "Wall time: 12 s\n"
     ]
    }
   ],
   "source": [
    "%%time\n",
    "spectrum = np.linalg.eigh(ham_sector.todense())[0]"
   ]
  },
  {
   "cell_type": "code",
   "execution_count": 37,
   "metadata": {},
   "outputs": [
    {
     "data": {
      "text/plain": [
       "array([-10.77666041,  -9.97764723,  -9.849146  , ...,   7.07013411,\n",
       "         7.07013411,   7.63337685])"
      ]
     },
     "execution_count": 37,
     "metadata": {},
     "output_type": "execute_result"
    }
   ],
   "source": [
    "spectrum "
   ]
  },
  {
   "cell_type": "code",
   "execution_count": 76,
   "metadata": {},
   "outputs": [
    {
     "data": {
      "text/plain": [
       "11.955935828700815"
      ]
     },
     "execution_count": 76,
     "metadata": {},
     "output_type": "execute_result"
    }
   ],
   "source": [
    "spectrum[-1] - spectrum[0]"
   ]
  },
  {
   "cell_type": "code",
   "execution_count": 77,
   "metadata": {},
   "outputs": [
    {
     "data": {
      "text/plain": [
       "17.808518746919532"
      ]
     },
     "execution_count": 77,
     "metadata": {},
     "output_type": "execute_result"
    }
   ],
   "source": [
    "4.9890393758223102 - (-12.8194793710972199)"
   ]
  },
  {
   "cell_type": "code",
   "execution_count": 196,
   "metadata": {},
   "outputs": [
    {
     "data": {
      "text/plain": [
       "-14.40000000000001"
      ]
     },
     "execution_count": 196,
     "metadata": {},
     "output_type": "execute_result"
    }
   ],
   "source": [
    "spectrum[0] - spectrum[-1]"
   ]
  },
  {
   "cell_type": "code",
   "execution_count": 217,
   "metadata": {},
   "outputs": [
    {
     "data": {
      "text/plain": [
       "array([-6.7498652 , -5.96448098, -5.96448098, -5.96448098, -5.00745814,\n",
       "       -5.00745814, -5.00745814, -4.66760773, -4.21625871, -4.21625871,\n",
       "       -4.21625871, -4.1135152 , -4.1135152 , -4.1135152 , -3.83441422,\n",
       "       -3.69766724, -3.69766724, -3.69766724, -3.663227  , -3.663227  ,\n",
       "       -3.663227  , -3.663227  , -3.663227  , -3.34941273, -3.34941273,\n",
       "       -3.34941273, -3.29040926, -2.93133272, -2.93133272, -2.93133272,\n",
       "       -2.93133272, -2.93133272, -2.84883052, -2.84883052, -2.84883052,\n",
       "       -2.79002175, -2.45654796, -2.45654796, -2.45654796, -2.45126596,\n",
       "       -2.45126596, -2.45126596, -2.45126596, -2.45126596, -2.24196378,\n",
       "       -2.07620824, -2.07620824, -2.07620824, -2.07620824, -2.07620824,\n",
       "       -1.99338324, -1.99338324, -1.99338324, -1.96552531, -1.96552531,\n",
       "       -1.96552531, -1.60484003, -1.60484003, -1.60484003, -1.60484003,\n",
       "       -1.60484003, -1.45837072, -1.45837072, -1.45837072, -1.4549003 ,\n",
       "       -1.4549003 , -1.4549003 , -1.39685439, -1.24353614, -1.24353614,\n",
       "       -1.24353614, -1.24353614, -1.24353614, -1.24257698, -1.23328371,\n",
       "       -1.23328371, -1.23328371, -0.97198793, -0.97198793, -0.97198793,\n",
       "       -0.90213379, -0.90213379, -0.90213379, -0.90213379, -0.90213379,\n",
       "       -0.89440671, -0.89440671, -0.89440671, -0.78340563, -0.78340563,\n",
       "       -0.78340563, -0.78340563, -0.78340563, -0.75803622, -0.63350692,\n",
       "       -0.63350692, -0.63350692, -0.60186649, -0.60186649, -0.60186649,\n",
       "       -0.60186649, -0.60186649, -0.43406959, -0.43406959, -0.43406959,\n",
       "       -0.34775907, -0.34775907, -0.34775907, -0.34775907, -0.34775907,\n",
       "       -0.34775907, -0.34775907, -0.2405155 , -0.2405155 , -0.2405155 ,\n",
       "       -0.15713231, -0.15713231, -0.15713231, -0.15713231, -0.15713231,\n",
       "       -0.09599487, -0.09599487, -0.09599487, -0.09599487, -0.09599487,\n",
       "       -0.0310702 ,  0.08578644,  0.08578644,  0.08578644,  0.08578644,\n",
       "        0.08578644,  0.08578644,  0.08578644,  0.25538844,  0.25538844,\n",
       "        0.25538844,  0.33610991,  0.33610991,  0.33610991,  0.50846074,\n",
       "        0.50846074,  0.50846074,  0.50846074,  0.50846074,  0.64164739,\n",
       "        0.64164739,  0.64164739,  0.69568227,  0.71063167,  0.71063167,\n",
       "        0.71063167,  0.71063167,  0.71063167,  0.73463314,  0.73463314,\n",
       "        0.73463314,  0.73463314,  0.73463314,  0.73463314,  0.73463314,\n",
       "        0.83441422,  1.07070217,  1.07070217,  1.07070217,  1.19899285,\n",
       "        1.19899285,  1.19899285,  1.29358144,  1.29358144,  1.29358144,\n",
       "        1.29358144,  1.29358144,  1.5       ,  1.5       ,  1.5       ,\n",
       "        1.5       ,  1.5       ,  1.5       ,  1.5       ,  1.55425   ,\n",
       "        1.55425   ,  1.55425   ,  1.62901812,  1.62901812,  1.62901812,\n",
       "        1.62901812,  1.62901812,  1.70769446,  1.90183965,  1.90183965,\n",
       "        1.90183965,  1.95257268,  1.95257268,  1.95257268,  1.95257268,\n",
       "        1.95257268,  2.078652  ,  2.078652  ,  2.078652  ,  2.078652  ,\n",
       "        2.078652  ,  2.26536686,  2.26536686,  2.26536686,  2.26536686,\n",
       "        2.26536686,  2.26536686,  2.26536686,  2.34093581,  2.34093581,\n",
       "        2.34093581,  2.37263862,  2.37263862,  2.37263862,  2.37263862,\n",
       "        2.37263862,  2.64685745,  2.64685745,  2.64685745,  2.76502878,\n",
       "        2.78668194,  2.78668194,  2.78668194,  2.78668194,  2.78668194,\n",
       "        2.91421356,  2.91421356,  2.91421356,  2.91421356,  2.91421356,\n",
       "        2.91421356,  2.91421356,  2.98739774,  2.98739774,  2.98739774,\n",
       "        3.17870596,  3.17870596,  3.17870596,  3.17870596,  3.17870596,\n",
       "        3.34775907,  3.34775907,  3.34775907,  3.34775907,  3.34775907,\n",
       "        3.34775907,  3.34775907,  3.5       ,  3.5       ,  3.5       ,\n",
       "        3.5       ,  3.5       ,  3.5       ,  3.5       ,  3.5       ,\n",
       "        3.5       ])"
      ]
     },
     "execution_count": 217,
     "metadata": {},
     "output_type": "execute_result"
    }
   ],
   "source": [
    "eigvals"
   ]
  },
  {
   "cell_type": "code",
   "execution_count": 503,
   "metadata": {},
   "outputs": [],
   "source": [
    "a = np.array([1, 2, 3, 0])"
   ]
  },
  {
   "cell_type": "code",
   "execution_count": 504,
   "metadata": {},
   "outputs": [
    {
     "data": {
      "text/plain": [
       "array([3, 0, 1, 2])"
      ]
     },
     "execution_count": 504,
     "metadata": {},
     "output_type": "execute_result"
    }
   ],
   "source": [
    "np.argsort(a)"
   ]
  },
  {
   "cell_type": "code",
   "execution_count": 510,
   "metadata": {},
   "outputs": [
    {
     "ename": "TypeError",
     "evalue": "list indices must be integers or slices, not tuple",
     "output_type": "error",
     "traceback": [
      "\u001b[0;31m---------------------------------------------------------------------------\u001b[0m",
      "\u001b[0;31mTypeError\u001b[0m                                 Traceback (most recent call last)",
      "\u001b[0;32m<ipython-input-510-55934540428d>\u001b[0m in \u001b[0;36m<module>\u001b[0;34m\u001b[0m\n\u001b[0;32m----> 1\u001b[0;31m \u001b[0mlist\u001b[0m\u001b[0;34m(\u001b[0m\u001b[0;34m'xxyz'\u001b[0m\u001b[0;34m)\u001b[0m\u001b[0;34m[\u001b[0m\u001b[0mnp\u001b[0m\u001b[0;34m.\u001b[0m\u001b[0mix_\u001b[0m\u001b[0;34m(\u001b[0m\u001b[0mnp\u001b[0m\u001b[0;34m.\u001b[0m\u001b[0margsort\u001b[0m\u001b[0;34m(\u001b[0m\u001b[0ma\u001b[0m\u001b[0;34m)\u001b[0m\u001b[0;34m)\u001b[0m\u001b[0;34m]\u001b[0m\u001b[0;34m\u001b[0m\u001b[0m\n\u001b[0m",
      "\u001b[0;31mTypeError\u001b[0m: list indices must be integers or slices, not tuple"
     ]
    }
   ],
   "source": [
    "list('xxyz')[np.ix_(np.argsort(a))]"
   ]
  },
  {
   "cell_type": "code",
   "execution_count": 4,
   "metadata": {},
   "outputs": [],
   "source": [
    "a = 5\n",
    "neki = (a, 3, 5)"
   ]
  },
  {
   "cell_type": "code",
   "execution_count": 5,
   "metadata": {},
   "outputs": [],
   "source": [
    "a = 3"
   ]
  },
  {
   "cell_type": "code",
   "execution_count": 6,
   "metadata": {},
   "outputs": [
    {
     "data": {
      "text/plain": [
       "(5, 3, 5)"
      ]
     },
     "execution_count": 6,
     "metadata": {},
     "output_type": "execute_result"
    }
   ],
   "source": [
    "neki"
   ]
  },
  {
   "cell_type": "code",
   "execution_count": 7,
   "metadata": {},
   "outputs": [
    {
     "data": {
      "text/plain": [
       "3"
      ]
     },
     "execution_count": 7,
     "metadata": {},
     "output_type": "execute_result"
    }
   ],
   "source": [
    "a"
   ]
  },
  {
   "cell_type": "code",
   "execution_count": 8,
   "metadata": {},
   "outputs": [
    {
     "ename": "TypeError",
     "evalue": "'tuple' object does not support item assignment",
     "output_type": "error",
     "traceback": [
      "\u001b[0;31m---------------------------------------------------------------------------\u001b[0m",
      "\u001b[0;31mTypeError\u001b[0m                                 Traceback (most recent call last)",
      "\u001b[0;32m<ipython-input-8-76d2fa8227b9>\u001b[0m in \u001b[0;36m<module>\u001b[0;34m\u001b[0m\n\u001b[0;32m----> 1\u001b[0;31m \u001b[0mneki\u001b[0m\u001b[0;34m[\u001b[0m\u001b[0;36m0\u001b[0m\u001b[0;34m]\u001b[0m \u001b[0;34m=\u001b[0m \u001b[0;36m4\u001b[0m\u001b[0;34m\u001b[0m\u001b[0m\n\u001b[0m",
      "\u001b[0;31mTypeError\u001b[0m: 'tuple' object does not support item assignment"
     ]
    }
   ],
   "source": [
    "neki[0] = 4"
   ]
  },
  {
   "cell_type": "code",
   "execution_count": 81,
   "metadata": {},
   "outputs": [
    {
     "data": {
      "text/plain": [
       "True"
      ]
     },
     "execution_count": 81,
     "metadata": {},
     "output_type": "execute_result"
    }
   ],
   "source": [
    "seznam = ['ena', 'dva', 'tri']\n",
    "\n",
    "'ena' in seznam"
   ]
  },
  {
   "cell_type": "code",
   "execution_count": 82,
   "metadata": {},
   "outputs": [
    {
     "ename": "AttributeError",
     "evalue": "'str' object has no attribute 'append'",
     "output_type": "error",
     "traceback": [
      "\u001b[0;31m---------------------------------------------------------------------------\u001b[0m",
      "\u001b[0;31mAttributeError\u001b[0m                            Traceback (most recent call last)",
      "\u001b[0;32m<ipython-input-82-a165d3ee17f1>\u001b[0m in \u001b[0;36m<module>\u001b[0;34m\u001b[0m\n\u001b[0;32m----> 1\u001b[0;31m \u001b[0;34m'ena'\u001b[0m\u001b[0;34m.\u001b[0m\u001b[0mappend\u001b[0m\u001b[0;34m(\u001b[0m\u001b[0;34m'_'\u001b[0m\u001b[0;34m)\u001b[0m\u001b[0;34m\u001b[0m\u001b[0m\n\u001b[0m",
      "\u001b[0;31mAttributeError\u001b[0m: 'str' object has no attribute 'append'"
     ]
    }
   ],
   "source": []
  },
  {
   "cell_type": "code",
   "execution_count": null,
   "metadata": {},
   "outputs": [],
   "source": []
  }
 ],
 "metadata": {
  "hide_input": false,
  "kernelspec": {
   "display_name": "Python 3",
   "language": "python",
   "name": "python3"
  },
  "language_info": {
   "codemirror_mode": {
    "name": "ipython",
    "version": 3
   },
   "file_extension": ".py",
   "mimetype": "text/x-python",
   "name": "python",
   "nbconvert_exporter": "python",
   "pygments_lexer": "ipython3",
   "version": "3.6.6"
  },
  "latex_envs": {
   "LaTeX_envs_menu_present": true,
   "autoclose": true,
   "autocomplete": true,
   "bibliofile": "biblio.bib",
   "cite_by": "apalike",
   "current_citInitial": 1,
   "eqLabelWithNumbers": true,
   "eqNumInitial": 1,
   "hotkeys": {
    "equation": "Ctrl-E",
    "itemize": "Ctrl-I"
   },
   "labels_anchors": false,
   "latex_user_defs": false,
   "report_style_numbering": false,
   "user_envs_cfg": false
  },
  "nbTranslate": {
   "displayLangs": [
    "*"
   ],
   "hotkey": "alt-t",
   "langInMainMenu": true,
   "sourceLang": "en",
   "targetLang": "fr",
   "useGoogleTranslate": true
  },
  "toc": {
   "base_numbering": 1,
   "nav_menu": {},
   "number_sections": true,
   "sideBar": true,
   "skip_h1_title": false,
   "title_cell": "Table of Contents",
   "title_sidebar": "Contents",
   "toc_cell": false,
   "toc_position": {},
   "toc_section_display": true,
   "toc_window_display": false
  },
  "varInspector": {
   "cols": {
    "lenName": 16,
    "lenType": 16,
    "lenVar": 40
   },
   "kernels_config": {
    "python": {
     "delete_cmd_postfix": "",
     "delete_cmd_prefix": "del ",
     "library": "var_list.py",
     "varRefreshCmd": "print(var_dic_list())"
    },
    "r": {
     "delete_cmd_postfix": ") ",
     "delete_cmd_prefix": "rm(",
     "library": "var_list.r",
     "varRefreshCmd": "cat(var_dic_list()) "
    }
   },
   "types_to_exclude": [
    "module",
    "function",
    "builtin_function_or_method",
    "instance",
    "_Feature"
   ],
   "window_display": false
  }
 },
 "nbformat": 4,
 "nbformat_minor": 2
}
