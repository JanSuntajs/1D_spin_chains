{
 "cells": [
  {
   "cell_type": "code",
   "execution_count": 80,
   "metadata": {},
   "outputs": [],
   "source": [
    "import hamiltonian as hm\n",
    "from matplotlib.pyplot import matshow\n",
    "from scipy.sparse import linalg"
   ]
  },
  {
   "cell_type": "code",
   "execution_count": 89,
   "metadata": {},
   "outputs": [],
   "source": [
    "L = 6\n",
    "op_string = 'x'\n",
    "J = -0.5 * np.ones(L)\n",
    "couplings1 = [[J[i], i, (i + 2) % L] for i in range(L)]\n",
    "couplings2 = [[J[i], i, (i + 1) % L] for i in range(L)]\n",
    "static = [['xx', couplings2], ['yy', couplings2], ['zz', couplings2],\n",
    "         ['xx', couplings1], ['yy', couplings1], ['zz', couplings1]]\n",
    "\n",
    "ham = hm.hamiltonian(L, static, [])"
   ]
  },
  {
   "cell_type": "code",
   "execution_count": 90,
   "metadata": {},
   "outputs": [],
   "source": [
    "neki = ham.static"
   ]
  },
  {
   "cell_type": "code",
   "execution_count": 91,
   "metadata": {},
   "outputs": [],
   "source": [
    "ham._build_hamiltonian()"
   ]
  },
  {
   "cell_type": "code",
   "execution_count": 92,
   "metadata": {},
   "outputs": [
    {
     "data": {
      "text/plain": [
       "<matplotlib.image.AxesImage at 0x7f7bb64ab358>"
      ]
     },
     "execution_count": 92,
     "metadata": {},
     "output_type": "execute_result"
    },
    {
     "data": {
      "image/png": "[encoded data removed]",
      "text/plain": [
       "<Figure size 288x288 with 1 Axes>"
      ]
     },
     "metadata": {
      "needs_background": "light"
     },
     "output_type": "display_data"
    }
   ],
   "source": [
    "matshow(np.real(ham.ham.todense()))"
   ]
  },
  {
   "cell_type": "code",
   "execution_count": 93,
   "metadata": {},
   "outputs": [
    {
     "data": {
      "text/plain": [
       "(array([-6.,  6., -6., -6., -6., -6.]),\n",
       " array([[-1.86333368e-01+2.32607766e-01j, -1.64508246e-17-3.04882893e-17j,\n",
       "          1.51417574e-02+4.05245568e-01j, -2.18463360e-01+6.35051143e-02j,\n",
       "          2.40335672e-01-1.13972148e-01j, -8.58391994e-02-2.06038600e-02j],\n",
       "        [-5.06203114e-02-1.18429517e-02j, -2.18298268e-17+1.09044678e-19j,\n",
       "          5.14196791e-02-1.42902000e-02j, -6.39819972e-02+2.41172934e-02j,\n",
       "          2.63424547e-01-3.19865370e-02j,  2.18745436e-01+1.60501054e-01j],\n",
       "        [-5.06203114e-02-1.18429517e-02j, -1.29841746e-18-1.00113288e-19j,\n",
       "          5.14196791e-02-1.42902000e-02j, -6.39819972e-02+2.41172934e-02j,\n",
       "          2.63424547e-01-3.19865370e-02j,  2.18745436e-01+1.60501054e-01j],\n",
       "        [ 6.33215831e-02-2.71026598e-02j,  1.27490979e-16-6.78159013e-17j,\n",
       "         -6.65198193e-02+3.96143707e-02j,  4.18237638e-02+3.33467679e-02j,\n",
       "          5.70053954e-02-1.26234026e-01j, -1.19808332e-01+5.36948419e-02j],\n",
       "        [-5.06203114e-02-1.18429517e-02j,  4.97834836e-17+2.30221482e-18j,\n",
       "          5.14196791e-02-1.42902000e-02j, -6.39819972e-02+2.41172934e-02j,\n",
       "          2.63424547e-01-3.19865370e-02j,  2.18745436e-01+1.60501054e-01j],\n",
       "        [ 6.33215831e-02-2.71026598e-02j, -1.24480324e-16+8.61394050e-19j,\n",
       "         -6.65198193e-02+3.96143707e-02j,  4.18237638e-02+3.33467679e-02j,\n",
       "          5.70053954e-02-1.26234026e-01j, -1.19808332e-01+5.36948419e-02j],\n",
       "        [ 6.33215831e-02-2.71026598e-02j,  7.33608309e-17+8.39518952e-17j,\n",
       "         -6.65198193e-02+3.96143707e-02j,  4.18237638e-02+3.33467679e-02j,\n",
       "          5.70053954e-02-1.26234026e-01j, -1.19808332e-01+5.36948419e-02j],\n",
       "        [ 9.51762081e-02+1.84868533e-02j,  1.16328745e-17-1.83810632e-16j,\n",
       "         -5.95378486e-02-3.12177791e-02j, -1.06888232e-02-1.25277755e-01j,\n",
       "          4.79664971e-02-4.99326760e-02j, -1.79307768e-02+1.45140572e-02j],\n",
       "        [-5.06203114e-02-1.18429517e-02j,  4.28763123e-17+4.91140600e-18j,\n",
       "          5.14196791e-02-1.42902000e-02j, -6.39819972e-02+2.41172934e-02j,\n",
       "          2.63424547e-01-3.19865370e-02j,  2.18745436e-01+1.60501054e-01j],\n",
       "        [ 6.33215831e-02-2.71026598e-02j, -9.30227744e-17+2.46928959e-16j,\n",
       "         -6.65198193e-02+3.96143707e-02j,  4.18237638e-02+3.33467679e-02j,\n",
       "          5.70053954e-02-1.26234026e-01j, -1.19808332e-01+5.36948419e-02j],\n",
       "        [ 6.33215831e-02-2.71026598e-02j,  3.29485501e-17-4.24455704e-17j,\n",
       "         -6.65198193e-02+3.96143707e-02j,  4.18237638e-02+3.33467679e-02j,\n",
       "          5.70053954e-02-1.26234026e-01j, -1.19808332e-01+5.36948419e-02j],\n",
       "        [ 9.51762081e-02+1.84868533e-02j, -7.69464313e-02-2.78231163e-01j,\n",
       "         -5.95378486e-02-3.12177791e-02j, -1.06888232e-02-1.25277755e-01j,\n",
       "          4.79664971e-02-4.99326760e-02j, -1.79307768e-02+1.45140572e-02j],\n",
       "        [ 6.33215831e-02-2.71026598e-02j, -8.72921892e-17-2.40752559e-17j,\n",
       "         -6.65198193e-02+3.96143707e-02j,  4.18237638e-02+3.33467679e-02j,\n",
       "          5.70053954e-02-1.26234026e-01j, -1.19808332e-01+5.36948419e-02j],\n",
       "        [ 9.51762081e-02+1.84868533e-02j,  7.69464313e-02+2.78231163e-01j,\n",
       "         -5.95378486e-02-3.12177791e-02j, -1.06888232e-02-1.25277755e-01j,\n",
       "          4.79664971e-02-4.99326760e-02j, -1.79307768e-02+1.45140572e-02j],\n",
       "        [ 9.51762081e-02+1.84868533e-02j,  6.45695697e-17-1.77718751e-16j,\n",
       "         -5.95378486e-02-3.12177791e-02j, -1.06888232e-02-1.25277755e-01j,\n",
       "          4.79664971e-02-4.99326760e-02j, -1.79307768e-02+1.45140572e-02j],\n",
       "        [-9.57632772e-02-8.02361708e-02j, -2.09747840e-17-6.20176341e-17j,\n",
       "          5.79843917e-02+3.45821299e-02j,  1.72037303e-02+6.01389067e-02j,\n",
       "          7.34134294e-02-1.68652199e-02j, -1.08187436e-01-3.90500482e-02j],\n",
       "        [-5.06203114e-02-1.18429517e-02j,  8.84397606e-18+1.35764164e-17j,\n",
       "          5.14196791e-02-1.42902000e-02j, -6.39819972e-02+2.41172934e-02j,\n",
       "          2.63424547e-01-3.19865370e-02j,  2.18745436e-01+1.60501054e-01j],\n",
       "        [ 6.33215831e-02-2.71026598e-02j,  1.04939574e-16-7.64895186e-17j,\n",
       "         -6.65198193e-02+3.96143707e-02j,  4.18237638e-02+3.33467679e-02j,\n",
       "          5.70053954e-02-1.26234026e-01j, -1.19808332e-01+5.36948419e-02j],\n",
       "        [ 6.33215831e-02-2.71026598e-02j, -2.60588947e-16-1.67751181e-16j,\n",
       "         -6.65198193e-02+3.96143707e-02j,  4.18237638e-02+3.33467679e-02j,\n",
       "          5.70053954e-02-1.26234026e-01j, -1.19808332e-01+5.36948419e-02j],\n",
       "        [ 9.51762081e-02+1.84868533e-02j,  7.69464313e-02+2.78231163e-01j,\n",
       "         -5.95378486e-02-3.12177791e-02j, -1.06888232e-02-1.25277755e-01j,\n",
       "          4.79664971e-02-4.99326760e-02j, -1.79307768e-02+1.45140572e-02j],\n",
       "        [ 6.33215831e-02-2.71026598e-02j,  1.18463641e-16+8.39518952e-17j,\n",
       "         -6.65198193e-02+3.96143707e-02j,  4.18237638e-02+3.33467679e-02j,\n",
       "          5.70053954e-02-1.26234026e-01j, -1.19808332e-01+5.36948419e-02j],\n",
       "        [ 9.51762081e-02+1.84868533e-02j, -5.23525004e-17-1.59570562e-16j,\n",
       "         -5.95378486e-02-3.12177791e-02j, -1.06888232e-02-1.25277755e-01j,\n",
       "          4.79664971e-02-4.99326760e-02j, -1.79307768e-02+1.45140572e-02j],\n",
       "        [ 9.51762081e-02+1.84868533e-02j, -7.69464313e-02-2.78231163e-01j,\n",
       "         -5.95378486e-02-3.12177791e-02j, -1.06888232e-02-1.25277755e-01j,\n",
       "          4.79664971e-02-4.99326760e-02j, -1.79307768e-02+1.45140572e-02j],\n",
       "        [-9.57632772e-02-8.02361708e-02j, -1.19756207e-17+4.89868844e-17j,\n",
       "          5.79843917e-02+3.45821299e-02j,  1.72037303e-02+6.01389067e-02j,\n",
       "          7.34134294e-02-1.68652199e-02j, -1.08187436e-01-3.90500482e-02j],\n",
       "        [ 6.33215831e-02-2.71026598e-02j,  1.72352748e-18-6.06601669e-17j,\n",
       "         -6.65198193e-02+3.96143707e-02j,  4.18237638e-02+3.33467679e-02j,\n",
       "          5.70053954e-02-1.26234026e-01j, -1.19808332e-01+5.36948419e-02j],\n",
       "        [ 9.51762081e-02+1.84868533e-02j, -7.69464313e-02-2.78231163e-01j,\n",
       "         -5.95378486e-02-3.12177791e-02j, -1.06888232e-02-1.25277755e-01j,\n",
       "          4.79664971e-02-4.99326760e-02j, -1.79307768e-02+1.45140572e-02j],\n",
       "        [ 9.51762081e-02+1.84868533e-02j,  7.69464313e-02+2.78231163e-01j,\n",
       "         -5.95378486e-02-3.12177791e-02j, -1.06888232e-02-1.25277755e-01j,\n",
       "          4.79664971e-02-4.99326760e-02j, -1.79307768e-02+1.45140572e-02j],\n",
       "        [-9.57632772e-02-8.02361708e-02j,  7.70665717e-17-4.94776846e-18j,\n",
       "          5.79843917e-02+3.45821299e-02j,  1.72037303e-02+6.01389067e-02j,\n",
       "          7.34134294e-02-1.68652199e-02j, -1.08187436e-01-3.90500482e-02j],\n",
       "        [ 9.51762081e-02+1.84868533e-02j, -2.85808436e-17-1.66489107e-16j,\n",
       "         -5.95378486e-02-3.12177791e-02j, -1.06888232e-02-1.25277755e-01j,\n",
       "          4.79664971e-02-4.99326760e-02j, -1.79307768e-02+1.45140572e-02j],\n",
       "        [-9.57632772e-02-8.02361708e-02j,  1.29410834e-16-8.67488724e-18j,\n",
       "          5.79843917e-02+3.45821299e-02j,  1.72037303e-02+6.01389067e-02j,\n",
       "          7.34134294e-02-1.68652199e-02j, -1.08187436e-01-3.90500482e-02j],\n",
       "        [-9.57632772e-02-8.02361708e-02j,  2.29356893e-17+1.66189139e-16j,\n",
       "          5.79843917e-02+3.45821299e-02j,  1.72037303e-02+6.01389067e-02j,\n",
       "          7.34134294e-02-1.68652199e-02j, -1.08187436e-01-3.90500482e-02j],\n",
       "        [-1.52611373e-01+1.04627472e-01j,  4.96018054e-17-3.61883526e-18j,\n",
       "          5.67606447e-02-6.11556863e-02j, -2.36273122e-01-1.52412457e-01j,\n",
       "         -4.89640854e-02-5.28142237e-02j, -9.84156381e-02-3.19490821e-02j],\n",
       "        [-5.06203114e-02-1.18429517e-02j, -1.67943817e-17-5.10619555e-19j,\n",
       "          5.14196791e-02-1.42902000e-02j, -6.39819972e-02+2.41172934e-02j,\n",
       "          2.63424547e-01-3.19865370e-02j,  2.18745436e-01+1.60501054e-01j],\n",
       "        [ 6.33215831e-02-2.71026598e-02j,  2.80501131e-18-6.87443854e-17j,\n",
       "         -6.65198193e-02+3.96143707e-02j,  4.18237638e-02+3.33467679e-02j,\n",
       "          5.70053954e-02-1.26234026e-01j, -1.19808332e-01+5.36948419e-02j],\n",
       "        [ 6.33215831e-02-2.71026598e-02j, -5.02382168e-17+2.18392965e-16j,\n",
       "         -6.65198193e-02+3.96143707e-02j,  4.18237638e-02+3.33467679e-02j,\n",
       "          5.70053954e-02-1.26234026e-01j, -1.19808332e-01+5.36948419e-02j],\n",
       "        [ 9.51762081e-02+1.84868533e-02j,  4.54538361e-17-2.67343337e-17j,\n",
       "         -5.95378486e-02-3.12177791e-02j, -1.06888232e-02-1.25277755e-01j,\n",
       "          4.79664971e-02-4.99326760e-02j, -1.79307768e-02+1.45140572e-02j],\n",
       "        [ 6.33215831e-02-2.71026598e-02j, -2.70463619e-17-1.52883787e-16j,\n",
       "         -6.65198193e-02+3.96143707e-02j,  4.18237638e-02+3.33467679e-02j,\n",
       "          5.70053954e-02-1.26234026e-01j, -1.19808332e-01+5.36948419e-02j],\n",
       "        [ 9.51762081e-02+1.84868533e-02j, -7.69464313e-02-2.78231163e-01j,\n",
       "         -5.95378486e-02-3.12177791e-02j, -1.06888232e-02-1.25277755e-01j,\n",
       "          4.79664971e-02-4.99326760e-02j, -1.79307768e-02+1.45140572e-02j],\n",
       "        [ 9.51762081e-02+1.84868533e-02j,  7.69464313e-02+2.78231163e-01j,\n",
       "         -5.95378486e-02-3.12177791e-02j, -1.06888232e-02-1.25277755e-01j,\n",
       "          4.79664971e-02-4.99326760e-02j, -1.79307768e-02+1.45140572e-02j],\n",
       "        [-9.57632772e-02-8.02361708e-02j, -1.49071135e-17+1.09321539e-16j,\n",
       "          5.79843917e-02+3.45821299e-02j,  1.72037303e-02+6.01389067e-02j,\n",
       "          7.34134294e-02-1.68652199e-02j, -1.08187436e-01-3.90500482e-02j],\n",
       "        [ 6.33215831e-02-2.71026598e-02j,  2.45974750e-17-1.23171334e-16j,\n",
       "         -6.65198193e-02+3.96143707e-02j,  4.18237638e-02+3.33467679e-02j,\n",
       "          5.70053954e-02-1.26234026e-01j, -1.19808332e-01+5.36948419e-02j],\n",
       "        [ 9.51762081e-02+1.84868533e-02j,  7.69464313e-02+2.78231163e-01j,\n",
       "         -5.95378486e-02-3.12177791e-02j, -1.06888232e-02-1.25277755e-01j,\n",
       "          4.79664971e-02-4.99326760e-02j, -1.79307768e-02+1.45140572e-02j],\n",
       "        [ 9.51762081e-02+1.84868533e-02j,  5.49140241e-17-4.74222465e-17j,\n",
       "         -5.95378486e-02-3.12177791e-02j, -1.06888232e-02-1.25277755e-01j,\n",
       "          4.79664971e-02-4.99326760e-02j, -1.79307768e-02+1.45140572e-02j],\n",
       "        [-9.57632772e-02-8.02361708e-02j, -8.26387826e-17+2.57485317e-17j,\n",
       "          5.79843917e-02+3.45821299e-02j,  1.72037303e-02+6.01389067e-02j,\n",
       "          7.34134294e-02-1.68652199e-02j, -1.08187436e-01-3.90500482e-02j],\n",
       "        [ 9.5176"
      ]
     },
     "execution_count": 93,
     "metadata": {},
     "output_type": "execute_result"
    },
    {
     "data": {
      "text/html": [
       "<b>limit_output extension: Maximum message size of 10000 exceeded with 14505 characters</b>"
      ]
     },
     "metadata": {},
     "output_type": "display_data"
    }
   ],
   "source": [
    "scipy.sparse.linalg.eigsh(ham.ham)"
   ]
  },
  {
   "cell_type": "code",
   "execution_count": 18,
   "metadata": {},
   "outputs": [
    {
     "data": {
      "text/plain": [
       "array([[0., 1., 2.],\n",
       "       [1., 2., 3.],\n",
       "       [2., 3., 4.],\n",
       "       [0., 3., 4.],\n",
       "       [0., 1., 4.]])"
      ]
     },
     "execution_count": 18,
     "metadata": {},
     "output_type": "execute_result"
    }
   ],
   "source": [
    "np.sort(a[:, 1:], axis=1)"
   ]
  },
  {
   "cell_type": "code",
   "execution_count": null,
   "metadata": {},
   "outputs": [],
   "source": []
  }
 ],
 "metadata": {
  "hide_input": false,
  "kernelspec": {
   "display_name": "Python 3",
   "language": "python",
   "name": "python3"
  },
  "language_info": {
   "codemirror_mode": {
    "name": "ipython",
    "version": 3
   },
   "file_extension": ".py",
   "mimetype": "text/x-python",
   "name": "python",
   "nbconvert_exporter": "python",
   "pygments_lexer": "ipython3",
   "version": "3.6.6"
  },
  "latex_envs": {
   "LaTeX_envs_menu_present": true,
   "autoclose": true,
   "autocomplete": true,
   "bibliofile": "biblio.bib",
   "cite_by": "apalike",
   "current_citInitial": 1,
   "eqLabelWithNumbers": true,
   "eqNumInitial": 1,
   "hotkeys": {
    "equation": "Ctrl-E",
    "itemize": "Ctrl-I"
   },
   "labels_anchors": false,
   "latex_user_defs": false,
   "report_style_numbering": false,
   "user_envs_cfg": false
  },
  "nbTranslate": {
   "displayLangs": [
    "*"
   ],
   "hotkey": "alt-t",
   "langInMainMenu": true,
   "sourceLang": "en",
   "targetLang": "fr",
   "useGoogleTranslate": true
  },
  "toc": {
   "base_numbering": 1,
   "nav_menu": {},
   "number_sections": true,
   "sideBar": true,
   "skip_h1_title": false,
   "title_cell": "Table of Contents",
   "title_sidebar": "Contents",
   "toc_cell": false,
   "toc_position": {},
   "toc_section_display": true,
   "toc_window_display": false
  },
  "varInspector": {
   "cols": {
    "lenName": 16,
    "lenType": 16,
    "lenVar": 40
   },
   "kernels_config": {
    "python": {
     "delete_cmd_postfix": "",
     "delete_cmd_prefix": "del ",
     "library": "var_list.py",
     "varRefreshCmd": "print(var_dic_list())"
    },
    "r": {
     "delete_cmd_postfix": ") ",
     "delete_cmd_prefix": "rm(",
     "library": "var_list.r",
     "varRefreshCmd": "cat(var_dic_list()) "
    }
   },
   "types_to_exclude": [
    "module",
    "function",
    "builtin_function_or_method",
    "instance",
    "_Feature"
   ],
   "window_display": false
  }
 },
 "nbformat": 4,
 "nbformat_minor": 2
}
