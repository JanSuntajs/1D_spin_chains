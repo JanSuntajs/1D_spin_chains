{
 "cells": [
  {
   "cell_type": "code",
   "execution_count": 304,
   "metadata": {},
   "outputs": [],
   "source": [
    "import scipy\n",
    "from scipy import sparse\n",
    "import numpy as np \n",
    "import numba as nb\n",
    "from scipy.sparse import linalg as LA\n",
    "from matplotlib.pyplot import imshow, matshow"
   ]
  },
  {
   "cell_type": "markdown",
   "metadata": {},
   "source": [
    "## Define the operators\n",
    "\n",
    "Define the operators which comprise the Hamiltonian."
   ]
  },
  {
   "cell_type": "code",
   "execution_count": 4,
   "metadata": {},
   "outputs": [],
   "source": [
    "# define operators\n",
    "\n",
    "Sz = np.array([[1, 0], [0, -1]], dtype=np.int8)\n",
    "Sx = np.array([[0, 1], [1, 0]], dtype=np.int8)\n",
    "Sy = np.array([[0, -1j], [1j, 0]])\n",
    "\n",
    "Sp = np.array([[0, 1], [0, 0]], dtype=np.int8)\n",
    "Sm = np.array([[0, 0], [1, 0]], dtype=np.int8)\n",
    "Id = np.array([[1, 0], [0, 1]], dtype=np.int8)\n",
    "\n",
    "_ops = {'x': Sx, 'y': Sz, 'z': Sz, '+': Sp, '-': Sm, 'I': Id}"
   ]
  },
  {
   "cell_type": "markdown",
   "metadata": {},
   "source": [
    "## The basic idea of the Hamiltonian construction"
   ]
  },
  {
   "cell_type": "code",
   "execution_count": 392,
   "metadata": {},
   "outputs": [
    {
     "data": {
      "text/plain": [
       "False"
      ]
     },
     "execution_count": 392,
     "metadata": {},
     "output_type": "execute_result"
    }
   ],
   "source": [
    "neki = [[1,2, 3]]\n",
    "\n",
    "isinstance(neki[0], np.ndarray)"
   ]
  },
  {
   "cell_type": "markdown",
   "metadata": {},
   "source": [
    "## Define the model parameters"
   ]
  },
  {
   "cell_type": "code",
   "execution_count": 1,
   "metadata": {},
   "outputs": [],
   "source": [
    "\n",
    "# chain length\n",
    "L = 5\n",
    "\n",
    "# define exchange coupling array\n",
    "J1 = -0.5 \n",
    "J_zz = [[J1, i, (i+1)] for i in range(L-1)]"
   ]
  },
  {
   "cell_type": "code",
   "execution_count": 412,
   "metadata": {},
   "outputs": [],
   "source": [
    "# construct a simple ising modee\n",
    "\n",
    "def construct_ham(operator, coupling_list, L):\n",
    "    \n",
    "    ham = 0 * sparse.eye(2**L)\n",
    "    for i, elt in enumerate(coupling_list):\n",
    "        temp = sparse.eye(1)\n",
    "        elt[1:] = np.sort(elt[1:])\n",
    "        \n",
    "        dims = np.diff(elt[1:]) - 1\n",
    "        \n",
    "        # take care of the boundaries / preceeding / suceeding operators\n",
    "        dims = np.insert(dims, 0, elt[1])\n",
    "    \n",
    "        dims = np.append(dims, L - 1 - elt[-1])\n",
    "        \n",
    "        eyes = [sparse.eye(2**dim) for dim in dims]\n",
    "        \n",
    "\n",
    "        for eye in eyes[:-1]:\n",
    "            temp_ = sparse.kron(eye, operator)\n",
    "            \n",
    "            temp = sparse.kron(temp, temp_)\n",
    "        temp = sparse.kron(temp, eyes[-1])\n",
    "    \n",
    "        ham += temp\n",
    "    \n",
    "    return ham\n",
    "    "
   ]
  },
  {
   "cell_type": "code",
   "execution_count": 413,
   "metadata": {},
   "outputs": [
    {
     "name": "stdout",
     "output_type": "stream",
     "text": [
      "CPU times: user 51.6 ms, sys: 3.7 ms, total: 55.3 ms\n",
      "Wall time: 64.9 ms\n"
     ]
    }
   ],
   "source": [
    "%%time\n",
    "\n",
    "ham = 0. * sparse.eye(2**L)\n",
    "\n",
    "ham += construct_ham(Sx, J_zz, L )\n",
    "\n",
    "ham += construct_ham(Sy, J_zz, L )\n",
    "\n",
    "ham += construct_ham(Sz, J_zz, L)\n",
    "\n",
    "ham"
   ]
  },
  {
   "cell_type": "code",
   "execution_count": 414,
   "metadata": {},
   "outputs": [
    {
     "data": {
      "text/plain": [
       "<matplotlib.image.AxesImage at 0x7f609c5204a8>"
      ]
     },
     "execution_count": 414,
     "metadata": {},
     "output_type": "execute_result"
    },
    {
     "data": {
      "image/png": "[encoded data removed]",
      "text/plain": [
       "<Figure size 288x288 with 1 Axes>"
      ]
     },
     "metadata": {
      "needs_background": "light"
     },
     "output_type": "display_data"
    }
   ],
   "source": [
    "matshow(np.real(ham.todense()))"
   ]
  },
  {
   "cell_type": "code",
   "execution_count": 396,
   "metadata": {},
   "outputs": [
    {
     "data": {
      "text/plain": [
       "True"
      ]
     },
     "execution_count": 396,
     "metadata": {},
     "output_type": "execute_result"
    }
   ],
   "source": [
    "set(list('xzz')).issubset(_ops.keys())"
   ]
  },
  {
   "cell_type": "code",
   "execution_count": 398,
   "metadata": {},
   "outputs": [
    {
     "data": {
      "text/plain": [
       "[[-0.5, 0, 1],\n",
       " [-0.5, 1, 2],\n",
       " [-0.5, 2, 3],\n",
       " [-0.5, 3, 4],\n",
       " [-0.5, 4, 5],\n",
       " [-0.5, 5, 6],\n",
       " [-0.5, 6, 7],\n",
       " [-0.5, 7, 8],\n",
       " [-0.5, 8, 9],\n",
       " [-0.5, 9, 10],\n",
       " [-0.5, 10, 11],\n",
       " [-0.5, 11, 12],\n",
       " [-0.5, 12, 13],\n",
       " [-0.5, 13, 14],\n",
       " [-0.5, 14, 15],\n",
       " [-0.5, 15, 16],\n",
       " [-0.5, 16, 17]]"
      ]
     },
     "execution_count": 398,
     "metadata": {},
     "output_type": "execute_result"
    }
   ],
   "source": [
    "J_zz"
   ]
  },
  {
   "cell_type": "code",
   "execution_count": 401,
   "metadata": {},
   "outputs": [
    {
     "data": {
      "text/plain": [
       "3"
      ]
     },
     "execution_count": 401,
     "metadata": {},
     "output_type": "execute_result"
    }
   ],
   "source": [
    "np.asarray(J_zz).shape[1]"
   ]
  },
  {
   "cell_type": "code",
   "execution_count": null,
   "metadata": {},
   "outputs": [],
   "source": []
  }
 ],
 "metadata": {
  "hide_input": false,
  "kernelspec": {
   "display_name": "Python 3",
   "language": "python",
   "name": "python3"
  },
  "latex_envs": {
   "LaTeX_envs_menu_present": true,
   "autoclose": true,
   "autocomplete": true,
   "bibliofile": "biblio.bib",
   "cite_by": "apalike",
   "current_citInitial": 1,
   "eqLabelWithNumbers": true,
   "eqNumInitial": 1,
   "hotkeys": {
    "equation": "Ctrl-E",
    "itemize": "Ctrl-I"
   },
   "labels_anchors": false,
   "latex_user_defs": false,
   "report_style_numbering": false,
   "user_envs_cfg": false
  },
  "nbTranslate": {
   "displayLangs": [
    "*"
   ],
   "hotkey": "alt-t",
   "langInMainMenu": true,
   "sourceLang": "en",
   "targetLang": "fr",
   "useGoogleTranslate": true
  },
  "toc": {
   "base_numbering": 1,
   "nav_menu": {},
   "number_sections": true,
   "sideBar": true,
   "skip_h1_title": false,
   "title_cell": "Table of Contents",
   "title_sidebar": "Contents",
   "toc_cell": false,
   "toc_position": {},
   "toc_section_display": true,
   "toc_window_display": false
  },
  "varInspector": {
   "cols": {
    "lenName": 16,
    "lenType": 16,
    "lenVar": 40
   },
   "kernels_config": {
    "python": {
     "delete_cmd_postfix": "",
     "delete_cmd_prefix": "del ",
     "library": "var_list.py",
     "varRefreshCmd": "print(var_dic_list())"
    },
    "r": {
     "delete_cmd_postfix": ") ",
     "delete_cmd_prefix": "rm(",
     "library": "var_list.r",
     "varRefreshCmd": "cat(var_dic_list()) "
    }
   },
   "types_to_exclude": [
    "module",
    "function",
    "builtin_function_or_method",
    "instance",
    "_Feature"
   ],
   "window_display": false
  }
 },
 "nbformat": 4,
 "nbformat_minor": 2
}
